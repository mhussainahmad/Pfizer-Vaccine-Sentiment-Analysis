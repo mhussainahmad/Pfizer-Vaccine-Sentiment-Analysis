{
  "nbformat": 4,
  "nbformat_minor": 0,
  "metadata": {
    "colab": {
      "name": "Pfizer Vaccine Sentiment Analysis.ipynb",
      "provenance": [],
      "collapsed_sections": [],
      "authorship_tag": "ABX9TyNJwdRuM95pA1NzFYYcOCGq",
      "include_colab_link": true
    },
    "kernelspec": {
      "name": "python3",
      "display_name": "Python 3"
    },
    "language_info": {
      "name": "python"
    }
  },
  "cells": [
    {
      "cell_type": "markdown",
      "metadata": {
        "id": "view-in-github",
        "colab_type": "text"
      },
      "source": [
        "<a href=\"https://colab.research.google.com/github/mhussainahmad/Pfizer-Vaccine-Sentiment-Analysis/blob/main/Pfizer_Vaccine_Sentiment_Analysis.ipynb\" target=\"_parent\"><img src=\"https://colab.research.google.com/assets/colab-badge.svg\" alt=\"Open In Colab\"/></a>"
      ]
    },
    {
      "cell_type": "markdown",
      "source": [
        "Importing Libraries"
      ],
      "metadata": {
        "id": "wUwa1UUzzaxn"
      }
    },
    {
      "cell_type": "code",
      "source": [
        "!pip install -U nltk[all]"
      ],
      "metadata": {
        "colab": {
          "base_uri": "https://localhost:8080/"
        },
        "id": "TT6KaX4A0AwF",
        "outputId": "82c1a9ff-58a2-4c36-e79f-9450b385df53"
      },
      "execution_count": 3,
      "outputs": [
        {
          "output_type": "stream",
          "name": "stdout",
          "text": [
            "Requirement already satisfied: nltk[all] in /usr/local/lib/python3.7/dist-packages (3.2.5)\n",
            "Requirement already satisfied: six in /usr/local/lib/python3.7/dist-packages (from nltk[all]) (1.15.0)\n",
            "Requirement already satisfied: pyparsing in /usr/local/lib/python3.7/dist-packages (from nltk[all]) (3.0.7)\n",
            "Requirement already satisfied: numpy in /usr/local/lib/python3.7/dist-packages (from nltk[all]) (1.21.5)\n",
            "Requirement already satisfied: matplotlib in /usr/local/lib/python3.7/dist-packages (from nltk[all]) (3.2.2)\n",
            "Requirement already satisfied: scipy in /usr/local/lib/python3.7/dist-packages (from nltk[all]) (1.4.1)\n",
            "Requirement already satisfied: scikit-learn in /usr/local/lib/python3.7/dist-packages (from nltk[all]) (1.0.2)\n",
            "Collecting python-crfsuite\n",
            "  Downloading python_crfsuite-0.9.8-cp37-cp37m-manylinux_2_17_x86_64.manylinux2014_x86_64.whl (965 kB)\n",
            "\u001b[K     |████████████████████████████████| 965 kB 5.5 MB/s \n",
            "\u001b[?25hRequirement already satisfied: requests in /usr/local/lib/python3.7/dist-packages (from nltk[all]) (2.23.0)\n",
            "Requirement already satisfied: gensim in /usr/local/lib/python3.7/dist-packages (from nltk[all]) (3.6.0)\n",
            "Collecting twython\n",
            "  Downloading twython-3.9.1-py3-none-any.whl (33 kB)\n",
            "Requirement already satisfied: smart-open>=1.2.1 in /usr/local/lib/python3.7/dist-packages (from gensim->nltk[all]) (5.2.1)\n",
            "Requirement already satisfied: kiwisolver>=1.0.1 in /usr/local/lib/python3.7/dist-packages (from matplotlib->nltk[all]) (1.4.0)\n",
            "Requirement already satisfied: python-dateutil>=2.1 in /usr/local/lib/python3.7/dist-packages (from matplotlib->nltk[all]) (2.8.2)\n",
            "Requirement already satisfied: cycler>=0.10 in /usr/local/lib/python3.7/dist-packages (from matplotlib->nltk[all]) (0.11.0)\n",
            "Requirement already satisfied: typing-extensions in /usr/local/lib/python3.7/dist-packages (from kiwisolver>=1.0.1->matplotlib->nltk[all]) (3.10.0.2)\n",
            "Requirement already satisfied: idna<3,>=2.5 in /usr/local/lib/python3.7/dist-packages (from requests->nltk[all]) (2.10)\n",
            "Requirement already satisfied: chardet<4,>=3.0.2 in /usr/local/lib/python3.7/dist-packages (from requests->nltk[all]) (3.0.4)\n",
            "Requirement already satisfied: urllib3!=1.25.0,!=1.25.1,<1.26,>=1.21.1 in /usr/local/lib/python3.7/dist-packages (from requests->nltk[all]) (1.24.3)\n",
            "Requirement already satisfied: certifi>=2017.4.17 in /usr/local/lib/python3.7/dist-packages (from requests->nltk[all]) (2021.10.8)\n",
            "Requirement already satisfied: joblib>=0.11 in /usr/local/lib/python3.7/dist-packages (from scikit-learn->nltk[all]) (1.1.0)\n",
            "Requirement already satisfied: threadpoolctl>=2.0.0 in /usr/local/lib/python3.7/dist-packages (from scikit-learn->nltk[all]) (3.1.0)\n",
            "Requirement already satisfied: requests-oauthlib>=0.4.0 in /usr/local/lib/python3.7/dist-packages (from twython->nltk[all]) (1.3.1)\n",
            "Requirement already satisfied: oauthlib>=3.0.0 in /usr/local/lib/python3.7/dist-packages (from requests-oauthlib>=0.4.0->twython->nltk[all]) (3.2.0)\n",
            "Installing collected packages: twython, python-crfsuite\n",
            "Successfully installed python-crfsuite-0.9.8 twython-3.9.1\n"
          ]
        }
      ]
    },
    {
      "cell_type": "code",
      "execution_count": 4,
      "metadata": {
        "id": "tY4qDeKVrikM"
      },
      "outputs": [],
      "source": [
        "import pandas as pd\n",
        "import seaborn as sns\n",
        "import matplotlib.pyplot as plt\n",
        "from nltk.sentiment.vader import SentimentIntensityAnalyzer\n",
        "from wordcloud import WordCloud, STOPWORDS, ImageColorGenerator"
      ]
    },
    {
      "cell_type": "markdown",
      "source": [
        "Importing Dataset"
      ],
      "metadata": {
        "id": "gOPp0Ify0Ph4"
      }
    },
    {
      "cell_type": "code",
      "source": [
        "data = pd.read_csv('https://raw.githubusercontent.com/amankharwal/Website-data/master/vaccination_tweets.csv')\n",
        "data.tail()"
      ],
      "metadata": {
        "colab": {
          "base_uri": "https://localhost:8080/",
          "height": 513
        },
        "id": "idlraCgczyL-",
        "outputId": "49fa4ade-318e-4bc2-f3b0-1de7ace578d8"
      },
      "execution_count": 8,
      "outputs": [
        {
          "output_type": "execute_result",
          "data": {
            "text/plain": [
              "                       id          user_name    user_location  \\\n",
              "8077  1381891596459859969   Prof. Guy Ashton              NaN   \n",
              "8078  1381873083598839816             theSun    Petaling Jaya   \n",
              "8079  1381839418055532546     Anisha Sindher  Hong Kong S.A.R   \n",
              "8080  1381824559519723523     Anisha Sindher  Hong Kong S.A.R   \n",
              "8081  1381817640855904257  Common Indian Man           Mumbai   \n",
              "\n",
              "                                       user_description         user_created  \\\n",
              "8077  Professor of tropical medicine and infectious ...  2020-03-18 07:59:46   \n",
              "8078  Breaking news updates from the website of Mala...  2009-07-29 01:58:44   \n",
              "8079  A Wander Woman & a (M)Ad woman: Senior Copywri...  2010-11-30 05:24:01   \n",
              "8080  A Wander Woman & a (M)Ad woman: Senior Copywri...  2010-11-30 05:24:01   \n",
              "8081              Common man created by Late RK Laxman.  2009-10-21 10:06:41   \n",
              "\n",
              "      user_followers  user_friends  user_favourites  user_verified  \\\n",
              "8077             238           249            32754          False   \n",
              "8078          143996           462              197          False   \n",
              "8079             105            66             2766          False   \n",
              "8080             105            66             2766          False   \n",
              "8081             216          1134            28405          False   \n",
              "\n",
              "                     date                                               text  \\\n",
              "8077  2021-04-13 08:46:45  Off for my second vaccine, then work. 👋💉\\n#Cur...   \n",
              "8078  2021-04-13 07:33:11  “When” appears to be a million-dollar question...   \n",
              "8079  2021-04-13 05:19:25  Second #PfizerBioNTech vaccine shot done! Than...   \n",
              "8080  2021-04-13 04:20:22  Second #PfizerBioNTech vaccine is officially i...   \n",
              "8081  2021-04-13 03:52:53  @mid_day #DGCI why not allow other proven Vacc...   \n",
              "\n",
              "                                               hashtags               source  \\\n",
              "8077                        ['Cured', 'PfizerBioNTech']  Twitter for Android   \n",
              "8078                                                NaN   Twitter for iPhone   \n",
              "8079  ['PfizerBioNTech', 'HongKong', 'HKTwitterGetsV...   Twitter for iPhone   \n",
              "8080               ['PfizerBioNTech', 'HongKong', 'HK']   Twitter for iPhone   \n",
              "8081       ['DGCI', 'PfizerBioNTech', 'Moderna', 'JnJ']  Twitter for Android   \n",
              "\n",
              "      retweets  favorites  is_retweet  \n",
              "8077         0          4       False  \n",
              "8078         0          0       False  \n",
              "8079         0          4       False  \n",
              "8080         0          3       False  \n",
              "8081         0          0       False  "
            ],
            "text/html": [
              "\n",
              "  <div id=\"df-3762e219-2119-4a91-bb06-5a7974bda0cd\">\n",
              "    <div class=\"colab-df-container\">\n",
              "      <div>\n",
              "<style scoped>\n",
              "    .dataframe tbody tr th:only-of-type {\n",
              "        vertical-align: middle;\n",
              "    }\n",
              "\n",
              "    .dataframe tbody tr th {\n",
              "        vertical-align: top;\n",
              "    }\n",
              "\n",
              "    .dataframe thead th {\n",
              "        text-align: right;\n",
              "    }\n",
              "</style>\n",
              "<table border=\"1\" class=\"dataframe\">\n",
              "  <thead>\n",
              "    <tr style=\"text-align: right;\">\n",
              "      <th></th>\n",
              "      <th>id</th>\n",
              "      <th>user_name</th>\n",
              "      <th>user_location</th>\n",
              "      <th>user_description</th>\n",
              "      <th>user_created</th>\n",
              "      <th>user_followers</th>\n",
              "      <th>user_friends</th>\n",
              "      <th>user_favourites</th>\n",
              "      <th>user_verified</th>\n",
              "      <th>date</th>\n",
              "      <th>text</th>\n",
              "      <th>hashtags</th>\n",
              "      <th>source</th>\n",
              "      <th>retweets</th>\n",
              "      <th>favorites</th>\n",
              "      <th>is_retweet</th>\n",
              "    </tr>\n",
              "  </thead>\n",
              "  <tbody>\n",
              "    <tr>\n",
              "      <th>8077</th>\n",
              "      <td>1381891596459859969</td>\n",
              "      <td>Prof. Guy Ashton</td>\n",
              "      <td>NaN</td>\n",
              "      <td>Professor of tropical medicine and infectious ...</td>\n",
              "      <td>2020-03-18 07:59:46</td>\n",
              "      <td>238</td>\n",
              "      <td>249</td>\n",
              "      <td>32754</td>\n",
              "      <td>False</td>\n",
              "      <td>2021-04-13 08:46:45</td>\n",
              "      <td>Off for my second vaccine, then work. 👋💉\\n#Cur...</td>\n",
              "      <td>['Cured', 'PfizerBioNTech']</td>\n",
              "      <td>Twitter for Android</td>\n",
              "      <td>0</td>\n",
              "      <td>4</td>\n",
              "      <td>False</td>\n",
              "    </tr>\n",
              "    <tr>\n",
              "      <th>8078</th>\n",
              "      <td>1381873083598839816</td>\n",
              "      <td>theSun</td>\n",
              "      <td>Petaling Jaya</td>\n",
              "      <td>Breaking news updates from the website of Mala...</td>\n",
              "      <td>2009-07-29 01:58:44</td>\n",
              "      <td>143996</td>\n",
              "      <td>462</td>\n",
              "      <td>197</td>\n",
              "      <td>False</td>\n",
              "      <td>2021-04-13 07:33:11</td>\n",
              "      <td>“When” appears to be a million-dollar question...</td>\n",
              "      <td>NaN</td>\n",
              "      <td>Twitter for iPhone</td>\n",
              "      <td>0</td>\n",
              "      <td>0</td>\n",
              "      <td>False</td>\n",
              "    </tr>\n",
              "    <tr>\n",
              "      <th>8079</th>\n",
              "      <td>1381839418055532546</td>\n",
              "      <td>Anisha Sindher</td>\n",
              "      <td>Hong Kong S.A.R</td>\n",
              "      <td>A Wander Woman &amp; a (M)Ad woman: Senior Copywri...</td>\n",
              "      <td>2010-11-30 05:24:01</td>\n",
              "      <td>105</td>\n",
              "      <td>66</td>\n",
              "      <td>2766</td>\n",
              "      <td>False</td>\n",
              "      <td>2021-04-13 05:19:25</td>\n",
              "      <td>Second #PfizerBioNTech vaccine shot done! Than...</td>\n",
              "      <td>['PfizerBioNTech', 'HongKong', 'HKTwitterGetsV...</td>\n",
              "      <td>Twitter for iPhone</td>\n",
              "      <td>0</td>\n",
              "      <td>4</td>\n",
              "      <td>False</td>\n",
              "    </tr>\n",
              "    <tr>\n",
              "      <th>8080</th>\n",
              "      <td>1381824559519723523</td>\n",
              "      <td>Anisha Sindher</td>\n",
              "      <td>Hong Kong S.A.R</td>\n",
              "      <td>A Wander Woman &amp; a (M)Ad woman: Senior Copywri...</td>\n",
              "      <td>2010-11-30 05:24:01</td>\n",
              "      <td>105</td>\n",
              "      <td>66</td>\n",
              "      <td>2766</td>\n",
              "      <td>False</td>\n",
              "      <td>2021-04-13 04:20:22</td>\n",
              "      <td>Second #PfizerBioNTech vaccine is officially i...</td>\n",
              "      <td>['PfizerBioNTech', 'HongKong', 'HK']</td>\n",
              "      <td>Twitter for iPhone</td>\n",
              "      <td>0</td>\n",
              "      <td>3</td>\n",
              "      <td>False</td>\n",
              "    </tr>\n",
              "    <tr>\n",
              "      <th>8081</th>\n",
              "      <td>1381817640855904257</td>\n",
              "      <td>Common Indian Man</td>\n",
              "      <td>Mumbai</td>\n",
              "      <td>Common man created by Late RK Laxman.</td>\n",
              "      <td>2009-10-21 10:06:41</td>\n",
              "      <td>216</td>\n",
              "      <td>1134</td>\n",
              "      <td>28405</td>\n",
              "      <td>False</td>\n",
              "      <td>2021-04-13 03:52:53</td>\n",
              "      <td>@mid_day #DGCI why not allow other proven Vacc...</td>\n",
              "      <td>['DGCI', 'PfizerBioNTech', 'Moderna', 'JnJ']</td>\n",
              "      <td>Twitter for Android</td>\n",
              "      <td>0</td>\n",
              "      <td>0</td>\n",
              "      <td>False</td>\n",
              "    </tr>\n",
              "  </tbody>\n",
              "</table>\n",
              "</div>\n",
              "      <button class=\"colab-df-convert\" onclick=\"convertToInteractive('df-3762e219-2119-4a91-bb06-5a7974bda0cd')\"\n",
              "              title=\"Convert this dataframe to an interactive table.\"\n",
              "              style=\"display:none;\">\n",
              "        \n",
              "  <svg xmlns=\"http://www.w3.org/2000/svg\" height=\"24px\"viewBox=\"0 0 24 24\"\n",
              "       width=\"24px\">\n",
              "    <path d=\"M0 0h24v24H0V0z\" fill=\"none\"/>\n",
              "    <path d=\"M18.56 5.44l.94 2.06.94-2.06 2.06-.94-2.06-.94-.94-2.06-.94 2.06-2.06.94zm-11 1L8.5 8.5l.94-2.06 2.06-.94-2.06-.94L8.5 2.5l-.94 2.06-2.06.94zm10 10l.94 2.06.94-2.06 2.06-.94-2.06-.94-.94-2.06-.94 2.06-2.06.94z\"/><path d=\"M17.41 7.96l-1.37-1.37c-.4-.4-.92-.59-1.43-.59-.52 0-1.04.2-1.43.59L10.3 9.45l-7.72 7.72c-.78.78-.78 2.05 0 2.83L4 21.41c.39.39.9.59 1.41.59.51 0 1.02-.2 1.41-.59l7.78-7.78 2.81-2.81c.8-.78.8-2.07 0-2.86zM5.41 20L4 18.59l7.72-7.72 1.47 1.35L5.41 20z\"/>\n",
              "  </svg>\n",
              "      </button>\n",
              "      \n",
              "  <style>\n",
              "    .colab-df-container {\n",
              "      display:flex;\n",
              "      flex-wrap:wrap;\n",
              "      gap: 12px;\n",
              "    }\n",
              "\n",
              "    .colab-df-convert {\n",
              "      background-color: #E8F0FE;\n",
              "      border: none;\n",
              "      border-radius: 50%;\n",
              "      cursor: pointer;\n",
              "      display: none;\n",
              "      fill: #1967D2;\n",
              "      height: 32px;\n",
              "      padding: 0 0 0 0;\n",
              "      width: 32px;\n",
              "    }\n",
              "\n",
              "    .colab-df-convert:hover {\n",
              "      background-color: #E2EBFA;\n",
              "      box-shadow: 0px 1px 2px rgba(60, 64, 67, 0.3), 0px 1px 3px 1px rgba(60, 64, 67, 0.15);\n",
              "      fill: #174EA6;\n",
              "    }\n",
              "\n",
              "    [theme=dark] .colab-df-convert {\n",
              "      background-color: #3B4455;\n",
              "      fill: #D2E3FC;\n",
              "    }\n",
              "\n",
              "    [theme=dark] .colab-df-convert:hover {\n",
              "      background-color: #434B5C;\n",
              "      box-shadow: 0px 1px 3px 1px rgba(0, 0, 0, 0.15);\n",
              "      filter: drop-shadow(0px 1px 2px rgba(0, 0, 0, 0.3));\n",
              "      fill: #FFFFFF;\n",
              "    }\n",
              "  </style>\n",
              "\n",
              "      <script>\n",
              "        const buttonEl =\n",
              "          document.querySelector('#df-3762e219-2119-4a91-bb06-5a7974bda0cd button.colab-df-convert');\n",
              "        buttonEl.style.display =\n",
              "          google.colab.kernel.accessAllowed ? 'block' : 'none';\n",
              "\n",
              "        async function convertToInteractive(key) {\n",
              "          const element = document.querySelector('#df-3762e219-2119-4a91-bb06-5a7974bda0cd');\n",
              "          const dataTable =\n",
              "            await google.colab.kernel.invokeFunction('convertToInteractive',\n",
              "                                                     [key], {});\n",
              "          if (!dataTable) return;\n",
              "\n",
              "          const docLinkHtml = 'Like what you see? Visit the ' +\n",
              "            '<a target=\"_blank\" href=https://colab.research.google.com/notebooks/data_table.ipynb>data table notebook</a>'\n",
              "            + ' to learn more about interactive tables.';\n",
              "          element.innerHTML = '';\n",
              "          dataTable['output_type'] = 'display_data';\n",
              "          await google.colab.output.renderOutput(dataTable, element);\n",
              "          const docLink = document.createElement('div');\n",
              "          docLink.innerHTML = docLinkHtml;\n",
              "          element.appendChild(docLink);\n",
              "        }\n",
              "      </script>\n",
              "    </div>\n",
              "  </div>\n",
              "  "
            ]
          },
          "metadata": {},
          "execution_count": 8
        }
      ]
    },
    {
      "cell_type": "markdown",
      "source": [
        "Checking for null values"
      ],
      "metadata": {
        "id": "RcVz-hq50nhN"
      }
    },
    {
      "cell_type": "code",
      "source": [
        "data.isnull().sum()"
      ],
      "metadata": {
        "colab": {
          "base_uri": "https://localhost:8080/"
        },
        "id": "I3vLJ5aA0ZMK",
        "outputId": "b3c783ce-28fc-406f-8e8a-a347f14bd8b0"
      },
      "execution_count": 9,
      "outputs": [
        {
          "output_type": "execute_result",
          "data": {
            "text/plain": [
              "id                     0\n",
              "user_name              0\n",
              "user_location       1630\n",
              "user_description     506\n",
              "user_created           0\n",
              "user_followers         0\n",
              "user_friends           0\n",
              "user_favourites        0\n",
              "user_verified          0\n",
              "date                   0\n",
              "text                   0\n",
              "hashtags            1949\n",
              "source                 1\n",
              "retweets               0\n",
              "favorites              0\n",
              "is_retweet             0\n",
              "dtype: int64"
            ]
          },
          "metadata": {},
          "execution_count": 9
        }
      ]
    },
    {
      "cell_type": "markdown",
      "source": [
        "Dropping the null values"
      ],
      "metadata": {
        "id": "t5vePKvq1DG5"
      }
    },
    {
      "cell_type": "code",
      "source": [
        "data = data.dropna()\n",
        "print(data.describe())"
      ],
      "metadata": {
        "colab": {
          "base_uri": "https://localhost:8080/"
        },
        "id": "voPjS4ji0rBG",
        "outputId": "c12e4c70-1f72-48c0-8a44-a32600f0384d"
      },
      "execution_count": 11,
      "outputs": [
        {
          "output_type": "stream",
          "name": "stdout",
          "text": [
            "                 id  user_followers   user_friends  user_favourites  \\\n",
            "count  4.749000e+03    4.749000e+03    4749.000000      4749.000000   \n",
            "mean   1.355333e+18    5.069683e+04    1341.396926     14523.124447   \n",
            "std    1.280104e+16    3.545440e+05    3453.847283     36379.651961   \n",
            "min    1.337728e+18    0.000000e+00       0.000000         0.000000   \n",
            "25%    1.344929e+18    1.740000e+02     215.000000       497.000000   \n",
            "50%    1.352030e+18    6.480000e+02     549.000000      2713.000000   \n",
            "75%    1.364940e+18    2.728000e+03    1419.000000     12258.000000   \n",
            "max    1.384788e+18    1.371493e+07  103226.000000    854011.000000   \n",
            "\n",
            "          retweets    favorites  \n",
            "count  4749.000000  4749.000000  \n",
            "mean      1.545378     9.385555  \n",
            "std      13.395572    55.280915  \n",
            "min       0.000000     0.000000  \n",
            "25%       0.000000     0.000000  \n",
            "50%       0.000000     1.000000  \n",
            "75%       1.000000     5.000000  \n",
            "max     678.000000  1979.000000  \n"
          ]
        }
      ]
    },
    {
      "cell_type": "markdown",
      "source": [
        "Importing Libraries to extract data from opinions"
      ],
      "metadata": {
        "id": "KT6j0_Ht1aKT"
      }
    },
    {
      "cell_type": "code",
      "source": [
        "import nltk\n",
        "import re\n",
        "nltk.download('stopwords')\n",
        "stemmer = nltk.SnowballStemmer('english')\n",
        "from nltk.corpus import stopwords\n",
        "import string"
      ],
      "metadata": {
        "colab": {
          "base_uri": "https://localhost:8080/"
        },
        "id": "TI9wkE721GdJ",
        "outputId": "9271643a-aa01-4842-e2eb-b7918594e18d"
      },
      "execution_count": 12,
      "outputs": [
        {
          "output_type": "stream",
          "name": "stdout",
          "text": [
            "[nltk_data] Downloading package stopwords to /root/nltk_data...\n",
            "[nltk_data]   Unzipping corpora/stopwords.zip.\n"
          ]
        }
      ]
    },
    {
      "cell_type": "markdown",
      "source": [
        "Extracting data"
      ],
      "metadata": {
        "id": "Kli_O6EM18-D"
      }
    },
    {
      "cell_type": "code",
      "source": [
        "stopword = set(stopwords.words('english'))\n",
        "def clean(text):\n",
        "  text = str(text).lower()\n",
        "  text = re.sub('\\[.*?\\]', '', text)\n",
        "  text = re.sub('https?://\\S+|www\\.\\S+', '', text)\n",
        "  text = re.sub('<.*?>+', '',text)\n",
        "  text = re.sub('[%s]')"
      ],
      "metadata": {
        "id": "LmcU07nz15FF"
      },
      "execution_count": null,
      "outputs": []
    }
  ]
}